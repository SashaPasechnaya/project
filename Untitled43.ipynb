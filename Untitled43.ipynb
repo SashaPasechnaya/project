{
 "cells": [
  {
   "cell_type": "code",
   "execution_count": 1,
   "id": "cde37dc2",
   "metadata": {},
   "outputs": [
    {
     "name": "stderr",
     "output_type": "stream",
     "text": [
      "C:\\anaconda3\\ANACONDA3\\lib\\site-packages\\scipy\\__init__.py:138: UserWarning: A NumPy version >=1.16.5 and <1.23.0 is required for this version of SciPy (detected version 1.23.5)\n",
      "  warnings.warn(f\"A NumPy version >={np_minversion} and <{np_maxversion} is required for this version of \"\n"
     ]
    }
   ],
   "source": [
    "import numpy as np\n",
    "import matplotlib.pyplot as plt\n",
    "from sklearn.model_selection import train_test_split\n",
    "from sklearn.metrics import r2_score as r2\n",
    "import tensorflow as tf"
   ]
  },
  {
   "cell_type": "markdown",
   "id": "463dc72e",
   "metadata": {},
   "source": [
    "#  Завантажимо дані "
   ]
  },
  {
   "cell_type": "code",
   "execution_count": 2,
   "id": "c3665614",
   "metadata": {},
   "outputs": [],
   "source": [
    "np.random.seed(42)\n",
    "X_data = np.linspace(-1 ,1, 100)\n",
    "num_coef = 9\n",
    "coef = [1, 2, 3, 3, 5, 6, 4, 200, 2]\n",
    "y_data = 0\n",
    "for i in range (num_coef):\n",
    "    y_data += coef[ i ]*np.power(X_data, i)\n",
    "    y_data += np.random.randn(*X_data.shape)*1.5"
   ]
  },
  {
   "cell_type": "markdown",
   "id": "75f62ebe",
   "metadata": {},
   "source": [
    " Розіб'ємо на тестові та тренувальні дані"
   ]
  },
  {
   "cell_type": "code",
   "execution_count": 3,
   "id": "b695f3b1",
   "metadata": {},
   "outputs": [
    {
     "data": {
      "text/plain": [
       "<matplotlib.collections.PathCollection at 0x1fb1f145fa0>"
      ]
     },
     "execution_count": 3,
     "metadata": {},
     "output_type": "execute_result"
    },
    {
     "data": {
      "image/png": "[encoded data removed]",
      "text/plain": [
       "<Figure size 432x288 with 1 Axes>"
      ]
     },
     "metadata": {
      "needs_background": "light"
     },
     "output_type": "display_data"
    }
   ],
   "source": [
    "X_train, X_test, y_train, y_test = train_test_split(X_data, y_data, test_size=0.1, shuffle=False)\n",
    "plt.scatter(X_data, y_data)"
   ]
  },
  {
   "cell_type": "markdown",
   "id": "f85e45c9",
   "metadata": {},
   "source": [
    "Ініціалізуємо параметри"
   ]
  },
  {
   "cell_type": "code",
   "execution_count": 35,
   "id": "4ac8b719",
   "metadata": {},
   "outputs": [],
   "source": [
    "learning_rate = 0.08\n",
    "momentum = 0.93\n",
    "num_epochs = 100\n",
    "l2_reg = 0.01"
   ]
  },
  {
   "cell_type": "markdown",
   "id": "dd090df1",
   "metadata": {},
   "source": [
    "Ініціалізуємо вектор параметрів"
   ]
  },
  {
   "cell_type": "code",
   "execution_count": 36,
   "id": "7a032256",
   "metadata": {},
   "outputs": [],
   "source": [
    "class MyModel(tf.keras.Model):\n",
    "    def __init__(self):\n",
    "        super(MyModel, self).__init__()\n",
    "        self.w = tf.Variable([0.]*num_coef, name='parameters')\n",
    "        self.v = tf.Variable([0.]*num_coef)\n",
    "    def call(self,x):\n",
    "        y=0\n",
    "        for i in range(num_coef):\n",
    "            y+= self.w[i]*pow(x,i)\n",
    "        return y"
   ]
  },
  {
   "cell_type": "markdown",
   "id": "da386597",
   "metadata": {},
   "source": [
    "Задамо задачу поліноміальної регресії "
   ]
  },
  {
   "cell_type": "code",
   "execution_count": 37,
   "id": "e6ece5ef",
   "metadata": {},
   "outputs": [],
   "source": [
    "def polinomial_regression(x, w):\n",
    "    y = 0\n",
    "    for i in range(num_coef):\n",
    "        y+=w[i]*pow(x,i)\n",
    "    return y"
   ]
  },
  {
   "cell_type": "markdown",
   "id": "38a32473",
   "metadata": {},
   "source": [
    "Задамо функцію втрат ( MSE + L2 regularizer)"
   ]
  },
  {
   "cell_type": "code",
   "execution_count": 38,
   "id": "d47e4f3c",
   "metadata": {},
   "outputs": [],
   "source": [
    "def cost_function(y_predict, y_true, w):\n",
    "    return tf.reduce_sum(tf.square(y_predict - y_true))/y_predict.shape[0] + l2_reg* tf.reduce_sum(tf.square(w))"
   ]
  },
  {
   "cell_type": "markdown",
   "id": "8f41cc26",
   "metadata": {},
   "source": [
    "Реалізуємо метод стохастичного градієнта с моментом (SGD with momentum)"
   ]
  },
  {
   "cell_type": "code",
   "execution_count": 39,
   "id": "09d65c78",
   "metadata": {},
   "outputs": [],
   "source": [
    "def SGDmomentum(model, X_train, y_train, v):\n",
    "    with tf.GradientTape() as tape:\n",
    "        y_predicted = polinomial_regression(X_train, model.w)\n",
    "        CostFunc = cost_function(y_predicted, y_train, model.w)\n",
    "    grad = tape.gradient(CostFunc, model.w)\n",
    "    v.assign(momentum*v + (1-momentum)*grad)\n",
    "    model.w.assign_sub(learning_rate*v)"
   ]
  },
  {
   "cell_type": "markdown",
   "id": "110c856a",
   "metadata": {},
   "source": [
    "Виконуємо тренування моделі"
   ]
  },
  {
   "cell_type": "code",
   "execution_count": 40,
   "id": "1d789b1b",
   "metadata": {},
   "outputs": [
    {
     "name": "stdout",
     "output_type": "stream",
     "text": [
      "Loss: 1723.9320068359375\n",
      "Loss: 930.85546875\n",
      "Loss: 441.2513427734375\n",
      "Loss: 306.8526611328125\n",
      "Loss: 254.49282836914062\n",
      "Loss: 246.96646118164062\n",
      "Loss: 216.9271240234375\n",
      "Loss: 188.85830688476562\n",
      "Loss: 177.10536193847656\n",
      "Loss: 169.10641479492188\n"
     ]
    }
   ],
   "source": [
    "def train(log = True):\n",
    "    model = MyModel()\n",
    "    losses = []\n",
    "    losss = np.inf\n",
    "    for epochs in range(num_epochs):\n",
    "        SGDmomentum(model, X_train, y_train, model.v)\n",
    "        pred = polinomial_regression(X_train, model.w)\n",
    "        cost = cost_function(pred, y_train, model.w)\n",
    "        losses.append(cost)\n",
    "        if cost < losss:\n",
    "            model.save_weights('./bestweights/')\n",
    "            losss = cost\n",
    "        if epochs % 10 == 0 and log == True:\n",
    "            print(f'Loss: {cost}')\n",
    "    return model, losses\n",
    "model, losses = train()"
   ]
  },
  {
   "cell_type": "markdown",
   "id": "54b4042f",
   "metadata": {},
   "source": [
    "Налаштування швидкості навчання"
   ]
  },
  {
   "cell_type": "code",
   "execution_count": 23,
   "id": "42a78a2b",
   "metadata": {},
   "outputs": [
    {
     "name": "stdout",
     "output_type": "stream",
     "text": [
      "Loss: 1732.032958984375\n",
      "Loss: 1177.9302978515625\n",
      "Loss: 687.776611328125\n",
      "Loss: 516.6753540039062\n",
      "Loss: 452.33770751953125\n",
      "Loss: 425.95098876953125\n",
      "Loss: 421.078125\n",
      "Loss: 414.54931640625\n",
      "Loss: 404.9642028808594\n",
      "Loss: 399.01690673828125\n",
      "Loss: 1723.9405517578125\n",
      "Loss: 954.9994506835938\n",
      "Loss: 546.4601440429688\n",
      "Loss: 469.310302734375\n",
      "Loss: 441.95489501953125\n",
      "Loss: 435.83404541015625\n",
      "Loss: 408.4212646484375\n",
      "Loss: 394.966796875\n",
      "Loss: 394.7604064941406\n",
      "Loss: 393.45672607421875\n"
     ]
    },
    {
     "data": {
      "image/png": "[encoded data removed]",
      "text/plain": [
       "<Figure size 432x288 with 1 Axes>"
      ]
     },
     "metadata": {
      "needs_background": "light"
     },
     "output_type": "display_data"
    }
   ],
   "source": [
    "for LR in [0.05, 0.08]:\n",
    "    learning_rate = LR\n",
    "    model, losses = train()\n",
    "    plt.plot(range(len(losses)), losses, label=f'{learning_rate}')\n",
    "plt.ylabel('Loss')\n",
    "plt.xlabel('Epoch')\n",
    "plt.legend()\n",
    "plt.show()    "
   ]
  },
  {
   "cell_type": "markdown",
   "id": "38b002a5",
   "metadata": {},
   "source": [
    "Налаштування регуляризатора"
   ]
  },
  {
   "cell_type": "code",
   "execution_count": 30,
   "id": "5aec0fa1",
   "metadata": {},
   "outputs": [
    {
     "name": "stdout",
     "output_type": "stream",
     "text": [
      "Loss: 1723.9320068359375\n",
      "Loss: 930.85546875\n",
      "Loss: 441.2513427734375\n",
      "Loss: 306.8526611328125\n",
      "Loss: 254.49282836914062\n",
      "Loss: 246.96646118164062\n",
      "Loss: 216.9271240234375\n",
      "Loss: 188.85830688476562\n",
      "Loss: 177.10536193847656\n",
      "Loss: 169.10641479492188\n",
      "Loss: 1723.9417724609375\n",
      "Loss: 958.3956909179688\n",
      "Loss: 560.6945190429688\n",
      "Loss: 490.16888427734375\n",
      "Loss: 464.94976806640625\n",
      "Loss: 458.3221435546875\n",
      "Loss: 431.17767333984375\n",
      "Loss: 419.287841796875\n",
      "Loss: 419.78302001953125\n",
      "Loss: 418.61627197265625\n",
      "Loss: 1723.9405517578125\n",
      "Loss: 954.9994506835938\n",
      "Loss: 546.4601440429688\n",
      "Loss: 469.310302734375\n",
      "Loss: 441.95489501953125\n",
      "Loss: 435.83404541015625\n",
      "Loss: 408.4212646484375\n",
      "Loss: 394.966796875\n",
      "Loss: 394.7604064941406\n",
      "Loss: 393.45672607421875\n"
     ]
    },
    {
     "data": {
      "image/png": "[encoded data removed]",
      "text/plain": [
       "<Figure size 432x288 with 1 Axes>"
      ]
     },
     "metadata": {
      "needs_background": "light"
     },
     "output_type": "display_data"
    }
   ],
   "source": [
    "for l2 in [0.01, 0.09,0.08]:\n",
    "    l2_reg = l2\n",
    "    model, losses = train()\n",
    "    plt.plot(range(len(losses)), losses, label=f'{l2_reg}')\n",
    "plt.title('L2 reg')\n",
    "plt.xlabel('epochs')\n",
    "plt.ylabel('Loss')\n",
    "plt.legend()\n",
    "plt.show()\n"
   ]
  },
  {
   "cell_type": "markdown",
   "id": "dccf5c5e",
   "metadata": {},
   "source": [
    "Візуалізуємо дані з лінією регресії"
   ]
  },
  {
   "cell_type": "code",
   "execution_count": 41,
   "id": "0f64e351",
   "metadata": {},
   "outputs": [
    {
     "data": {
      "image/png": "[encoded data removed]",
      "text/plain": [
       "<Figure size 432x288 with 1 Axes>"
      ]
     },
     "metadata": {
      "needs_background": "light"
     },
     "output_type": "display_data"
    }
   ],
   "source": [
    "# model = MyModel()\n",
    "# model.load_weights('./bestmodel/')\n",
    "\n",
    "plt.scatter(X_data, y_data)\n",
    "plt.plot(X_data, polinomial_regression(X_data, model.w), 'pink')\n",
    "plt.xlabel('x')\n",
    "plt.ylabel('y')\n",
    "plt.show()"
   ]
  },
  {
   "cell_type": "markdown",
   "id": "3250a6c3",
   "metadata": {},
   "source": [
    "Те ж саме зробимо на багатовимірних даних"
   ]
  },
  {
   "cell_type": "code",
   "execution_count": 497,
   "id": "9b07543d",
   "metadata": {},
   "outputs": [],
   "source": [
    "from sklearn.datasets import make_friedman3\n",
    "import pandas as pd\n",
    "from sklearn.preprocessing import StandardScaler\n",
    "from tensorflow.keras.optimizers import SGD"
   ]
  },
  {
   "cell_type": "code",
   "execution_count": 353,
   "id": "2536280f",
   "metadata": {},
   "outputs": [],
   "source": [
    "X, y = make_friedman3(n_samples=1000, noise=0.1, random_state=42)"
   ]
  },
  {
   "cell_type": "code",
   "execution_count": 354,
   "id": "d362285d",
   "metadata": {},
   "outputs": [],
   "source": [
    "X = pd.DataFrame(X)\n",
    "y = pd.DataFrame(y)\n",
    "X = X.to_numpy()\n",
    "y = y.to_numpy()\n"
   ]
  },
  {
   "cell_type": "code",
   "execution_count": 355,
   "id": "6612343e",
   "metadata": {},
   "outputs": [],
   "source": [
    "lr = 0.01\n",
    "moment = 0.1\n",
    "epochs = 100\n",
    "l2 = 0.009"
   ]
  },
  {
   "cell_type": "code",
   "execution_count": 356,
   "id": "f124da5c",
   "metadata": {},
   "outputs": [],
   "source": [
    "X = StandardScaler().fit_transform(X)\n",
    "X_train, X_test, y_train, y_test = train_test_split(X, y, test_size=0.2, random_state=42)\n"
   ]
  },
  {
   "cell_type": "code",
   "execution_count": 357,
   "id": "91c5e452",
   "metadata": {},
   "outputs": [
    {
     "name": "stdout",
     "output_type": "stream",
     "text": [
      "Model: \"my_polynomial_model_5\"\n",
      "_________________________________________________________________\n",
      "Layer (type)                 Output Shape              Param #   \n",
      "=================================================================\n",
      "Total params: 6\n",
      "Trainable params: 6\n",
      "Non-trainable params: 0\n",
      "_________________________________________________________________\n"
     ]
    }
   ],
   "source": [
    "model = MyPolynomialModel(5, 1)\n",
    "model.build(input_shape=(None, 1))\n",
    "model.summary()"
   ]
  },
  {
   "cell_type": "code",
   "execution_count": 358,
   "id": "6d3e910a",
   "metadata": {},
   "outputs": [],
   "source": [
    "class MyPolynomialModel(tf.keras.Model):\n",
    "    def __init__(self, degree, num_features):\n",
    "        super(MyPolynomialModel, self).__init__()\n",
    "        self.w = []\n",
    "        for i in range(num_features):\n",
    "            self.w.append([tf.Variable(tf.Variable(1.), dtype=tf.float32) for i in range(degree + 1)])\n",
    "            \n",
    "\n",
    "    def call(self, x):\n",
    "        y_pred = []\n",
    "        for i in range(len(self.w)):\n",
    "            if len(x.shape) == 1:\n",
    "                y_pred.append(tf.math.polyval(self.w[i], x))\n",
    "            else:\n",
    "                y_pred.append(tf.math.polyval(self.w[i], x[:, i]))\n",
    "\n",
    "        return y_pred"
   ]
  },
  {
   "cell_type": "code",
   "execution_count": 359,
   "id": "1bcbfec1",
   "metadata": {},
   "outputs": [],
   "source": [
    "def loss_fn(y_true, y_pred, w = 0., l2 = 0.):\n",
    "    return tf.reduce_mean(tf.square(y_true - y_pred)) + l2 * tf.reduce_sum(tf.abs(w))"
   ]
  },
  {
   "cell_type": "code",
   "execution_count": 360,
   "id": "c2d15ea2",
   "metadata": {},
   "outputs": [
    {
     "name": "stdout",
     "output_type": "stream",
     "text": [
      "WARNING:tensorflow:Layer my_polynomial_model_5 is casting an input tensor from dtype float64 to the layer's dtype of float32, which is new behavior in TensorFlow 2.  The layer has dtype float32 because its dtype defaults to floatx.\n",
      "\n",
      "If you intended to run this layer in float32, you can safely ignore this warning. If in doubt, this warning is likely only an issue if you are porting a TensorFlow 1.X model to TensorFlow 2.\n",
      "\n",
      "To change all layers to have dtype float64 by default, call `tf.keras.backend.set_floatx('float64')`. To change just this layer, pass dtype='float64' to the layer constructor. If you are the author of this layer, you can disable autocasting by passing autocast=False to the base Layer constructor.\n",
      "\n",
      "INFO:tensorflow:Assets written to: saved_model/checkpoint_epoch_my_polynomial_model_50\\assets\n",
      "Epoch: 0 Loss: tf.Tensor(68.852066, shape=(), dtype=float32)\n",
      "INFO:tensorflow:Assets written to: saved_model/checkpoint_epoch_my_polynomial_model_510\\assets\n",
      "Epoch: 10 Loss: tf.Tensor(0.59505653, shape=(), dtype=float32)\n",
      "INFO:tensorflow:Assets written to: saved_model/checkpoint_epoch_my_polynomial_model_520\\assets\n",
      "Epoch: 20 Loss: tf.Tensor(0.4564731, shape=(), dtype=float32)\n",
      "INFO:tensorflow:Assets written to: saved_model/checkpoint_epoch_my_polynomial_model_530\\assets\n",
      "Epoch: 30 Loss: tf.Tensor(0.39815718, shape=(), dtype=float32)\n",
      "INFO:tensorflow:Assets written to: saved_model/checkpoint_epoch_my_polynomial_model_540\\assets\n",
      "Epoch: 40 Loss: tf.Tensor(0.3512018, shape=(), dtype=float32)\n",
      "INFO:tensorflow:Assets written to: saved_model/checkpoint_epoch_my_polynomial_model_550\\assets\n",
      "Epoch: 50 Loss: tf.Tensor(0.31317076, shape=(), dtype=float32)\n",
      "INFO:tensorflow:Assets written to: saved_model/checkpoint_epoch_my_polynomial_model_560\\assets\n",
      "Epoch: 60 Loss: tf.Tensor(0.28230664, shape=(), dtype=float32)\n",
      "INFO:tensorflow:Assets written to: saved_model/checkpoint_epoch_my_polynomial_model_570\\assets\n",
      "Epoch: 70 Loss: tf.Tensor(0.25720912, shape=(), dtype=float32)\n",
      "INFO:tensorflow:Assets written to: saved_model/checkpoint_epoch_my_polynomial_model_580\\assets\n",
      "Epoch: 80 Loss: tf.Tensor(0.23675992, shape=(), dtype=float32)\n",
      "INFO:tensorflow:Assets written to: saved_model/checkpoint_epoch_my_polynomial_model_590\\assets\n",
      "Epoch: 90 Loss: tf.Tensor(0.22006379, shape=(), dtype=float32)\n",
      "INFO:tensorflow:Assets written to: saved_model/checkpoint_epoch_my_polynomial_model_5100\\assets\n",
      "Epoch: 100 Loss: tf.Tensor(0.20640291, shape=(), dtype=float32)\n"
     ]
    }
   ],
   "source": [
    "optimizer = SGD(learning_rate = lr, momentum=moment)\n",
    "\n",
    "def train(model, inputs, outputs, l2):\n",
    "    losses = []\n",
    "    for i in range(epochs + 1):\n",
    "        for j in range(len(model.w)):\n",
    "            with tf.GradientTape() as tape:\n",
    "                current_loss = loss_fn(outputs, model(inputs)[j], model.w[j], l2)\n",
    "                dW = tape.gradient(current_loss, model.w[j])\n",
    "                optimizer.apply_gradients(zip(dW, model.w[j])) \n",
    "                losses.append(current_loss)\n",
    "                \n",
    "        if(i % 10 == 0):\n",
    "            model.save('saved_model/checkpoint_epoch_' + str(model.name) + str(i))\n",
    "            print(\"Epoch: \" + str(i) + \" Loss: \" + str(losses[i]))\n",
    "    \n",
    "    return losses\n",
    "\n",
    "losses = train(model, X_train, y_train, l2)"
   ]
  },
  {
   "cell_type": "code",
   "execution_count": 361,
   "id": "6812a8f9",
   "metadata": {},
   "outputs": [
    {
     "data": {
      "text/plain": [
       "[<matplotlib.lines.Line2D at 0x23d895e81c0>]"
      ]
     },
     "execution_count": 361,
     "metadata": {},
     "output_type": "execute_result"
    },
    {
     "data": {
      "image/png": "[encoded data removed]",
      "text/plain": [
       "<Figure size 432x288 with 1 Axes>"
      ]
     },
     "metadata": {
      "needs_background": "light"
     },
     "output_type": "display_data"
    }
   ],
   "source": [
    "plt.plot(losses)"
   ]
  },
  {
   "cell_type": "code",
   "execution_count": null,
   "id": "58896f28",
   "metadata": {},
   "outputs": [],
   "source": []
  }
 ],
 "metadata": {
  "kernelspec": {
   "display_name": "Python 3",
   "language": "python",
   "name": "python3"
  },
  "language_info": {
   "codemirror_mode": {
    "name": "ipython",
    "version": 3
   },
   "file_extension": ".py",
   "mimetype": "text/x-python",
   "name": "python",
   "nbconvert_exporter": "python",
   "pygments_lexer": "ipython3",
   "version": "3.8.8"
  }
 },
 "nbformat": 4,
 "nbformat_minor": 5
}
